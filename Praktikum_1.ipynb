{
 "cells": [
  {
   "cell_type": "markdown",
   "metadata": {},
   "source": [
    "#### NAMA : M. JOVAN PUTRA ARISANDI\n",
    "#### NIM : 09011282328026\n",
    "#### KELAS : SK3B\n",
    "\n",
    "# Laporan Analisis Data"
   ]
  },
  {
   "cell_type": "code",
   "execution_count": null,
   "metadata": {},
   "outputs": [],
   "source": [
    "import pandas as pd\n",
    "import numpy as np\n",
    "import matplotlib.pyplot as plt\n",
    "import seaborn as sns\n",
    "\n",
    "from scipy.stats import skew, kurtosis"
   ]
  },
  {
   "cell_type": "markdown",
   "metadata": {},
   "source": [
    "**DATASET** : Data set yang digunakan adalah heart_disease_uci.csv yang memuat informasi tentang penyakit jantung. Dataset ini memiliki bagian variabel numerik dan berbagai kategori lainnya"
   ]
  },
  {
   "cell_type": "code",
   "execution_count": null,
   "metadata": {},
   "outputs": [],
   "source": [
    "df = pd.read_csv('C:/Users/jovan/OneDrive/Documents/Bahan Tugas Semester 3/Bahan Data Mining/heart_disease_uci.csv')"
   ]
  },
  {
   "cell_type": "markdown",
   "metadata": {},
   "source": [
    "**EKSPLORASI AWAL** : \n",
    "- Menampilkan 5 baris pertama dan terakhir dari dataset\n",
    "- Melihat informasi tentang dataset (Tipe data, jumlah entri dan jumlah kolom)\n",
    "- Mengecek nilai missing dan outliers"
   ]
  },
  {
   "cell_type": "code",
   "execution_count": null,
   "metadata": {},
   "outputs": [],
   "source": [
    "print('Menampilkan 5 beris pertama dari dataset')\n",
    "display(df.head())\n",
    "\n",
    "print('\\nMenampilkan 5 baris terakhir dari dataset')\n",
    "display(df.tail())\n",
    "\n",
    "print ('\\nMenampilkan tipe data')\n",
    "display(df.info())\n",
    "\n",
    "jumlah_baris,jumlah_kolom = df.shape\n",
    "print(f\"Jumlah entri (Baris): {jumlah_baris}\")\n",
    "print(f\"Jumlah kolom : {jumlah_kolom}\")"
   ]
  },
  {
   "cell_type": "code",
   "execution_count": null,
   "metadata": {},
   "outputs": [],
   "source": [
    "print('Jumlah nilai missing setiap kolom')\n",
    "print(df.isnull().sum())\n",
    "\n",
    "print('\\nTotal nilai missing dalam dataset')\n",
    "print(df.isnull().sum().sum())\n",
    "\n",
    "print('\\nBaris yang mengandung nilai missing')\n",
    "print(df[df.isnull().any(axis=1)])"
   ]
  },
  {
   "cell_type": "markdown",
   "metadata": {},
   "source": [
    "**STATISTIK DESKRIPTIF**\n",
    "- Menghitung dan menampilkan Mean, Median, Mode, Standar Deviasi, Varianse, Skewness, dan Kurtosis untuk kolom numerik\n",
    "- Hitung korelasi antar variabel numerik"
   ]
  },
  {
   "cell_type": "code",
   "execution_count": 51,
   "metadata": {},
   "outputs": [
    {
     "name": "stdout",
     "output_type": "stream",
     "text": [
      "\n",
      "Statistik untuk kolom 'id':\n",
      "Mean: 460.5\n",
      "Median: 460.5\n",
      "Mode: 1\n",
      "Standar Deviasi: 265.72542219366215\n",
      "Variansi: 70610.0\n",
      "Skewness: 0.0\n",
      "Kurtosis: -1.2000028355421026\n",
      "\n",
      "Statistik untuk kolom 'age':\n",
      "Mean: 53.51086956521739\n",
      "Median: 54.0\n",
      "Mode: 54\n",
      "Standar Deviasi: 9.424685209576857\n",
      "Variansi: 88.82469129961679\n",
      "Skewness: -0.19567416156265732\n",
      "Kurtosis: -0.387366500445804\n",
      "\n",
      "Statistik untuk kolom 'trestbps':\n",
      "Mean: 132.13240418118468\n",
      "Median: 130.0\n",
      "Mode: 120.0\n",
      "Standar Deviasi: 19.066069518587476\n",
      "Variansi: 363.5150068876104\n",
      "Skewness: nan\n",
      "Kurtosis: nan\n",
      "\n",
      "Statistik untuk kolom 'chol':\n",
      "Mean: 199.13033707865168\n",
      "Median: 223.0\n",
      "Mode: 0.0\n",
      "Standar Deviasi: 110.7808103532305\n",
      "Variansi: 12272.387942518422\n",
      "Skewness: nan\n",
      "Kurtosis: nan\n",
      "\n",
      "Statistik untuk kolom 'thalch':\n",
      "Mean: 137.5456647398844\n",
      "Median: 140.0\n",
      "Mode: 150.0\n",
      "Standar Deviasi: 25.926276492797594\n",
      "Variansi: 672.1718127809892\n",
      "Skewness: nan\n",
      "Kurtosis: nan\n",
      "\n",
      "Statistik untuk kolom 'oldpeak':\n",
      "Mean: 0.8787878787878788\n",
      "Median: 0.5\n",
      "Mode: 0.0\n",
      "Standar Deviasi: 1.0912262483465298\n",
      "Variansi: 1.1907747250804426\n",
      "Skewness: nan\n",
      "Kurtosis: nan\n",
      "\n",
      "Statistik untuk kolom 'ca':\n",
      "Mean: 0.6763754045307443\n",
      "Median: 0.0\n",
      "Mode: 0.0\n",
      "Standar Deviasi: 0.935653012559987\n",
      "Variansi: 0.8754465599125792\n",
      "Skewness: nan\n",
      "Kurtosis: nan\n",
      "\n",
      "Statistik untuk kolom 'num':\n",
      "Mean: 0.9956521739130435\n",
      "Median: 1.0\n",
      "Mode: 0\n",
      "Standar Deviasi: 1.142693403338037\n",
      "Variansi: 1.3057482140322654\n",
      "Skewness: 0.9672996366951587\n",
      "Kurtosis: -0.11027372897801335\n"
     ]
    }
   ],
   "source": [
    "df_numeric = df.select_dtypes(include='number')\n",
    "\n",
    "for column in df_numeric.columns:\n",
    "    print(f\"\\nStatistik untuk kolom '{column}':\")\n",
    "    \n",
    "    mean_val = df_numeric[column].mean()\n",
    "    median_val = df_numeric[column].median()\n",
    "    mode_val = df_numeric[column].mode()[0]\n",
    "    std_dev = df_numeric[column].std()\n",
    "    variance = df_numeric[column].var()\n",
    "    skewness = skew(df_numeric[column])\n",
    "    kurt = kurtosis(df_numeric[column])\n",
    "    \n",
    "    print(f\"Mean: {mean_val}\")\n",
    "    print(f\"Median: {median_val}\")\n",
    "    print(f\"Mode: {mode_val}\")\n",
    "    print(f\"Standar Deviasi: {std_dev}\")\n",
    "    print(f\"Variansi: {variance}\")\n",
    "    print(f\"Skewness: {skewness}\")\n",
    "    print(f\"Kurtosis: {kurt}\")"
   ]
  },
  {
   "cell_type": "code",
   "execution_count": null,
   "metadata": {},
   "outputs": [],
   "source": [
    "df_numerik = df.select_dtypes(include=['float64', 'int64'])\n",
    "korelasi_numerik = df_numerik.corr()\n",
    "\n",
    "print('Korelasi anter variabelnumerik')\n",
    "print(korelasi_numerik)\n",
    "\n",
    "plt.figure(figsize=(10, 8))\n",
    "sns.heatmap(korelasi_numerik, annot=True, cmap='coolwarm', vmin=-1, vmax=1)\n",
    "plt.title(\"Matriks Korelasi Antar Variabel Numerik\")\n",
    "plt.show()"
   ]
  },
  {
   "cell_type": "markdown",
   "metadata": {},
   "source": [
    "**VISUALISASI DATA**\n",
    "- Membuat Histogram dan Box Plot untuk setiap variabel numerik\n",
    "- buat scatter plot untuk pasangan variabel yang memiliki korelasi tinggi"
   ]
  },
  {
   "cell_type": "code",
   "execution_count": null,
   "metadata": {},
   "outputs": [],
   "source": [
    "plt.figure(figsize=(20, 15))\n",
    "\n",
    "for i, col in enumerate(df_numerik.columns):\n",
    "    plt.subplot(len(df_numerik.columns), 2, 2*i+1)\n",
    "    sns.histplot(df_numerik[col], kde=True, bins=30)\n",
    "    plt.title(f'Histogram of {col}')\n",
    "\n",
    "    plt.subplot(len(df_numerik.columns), 2, 2*i+2)\n",
    "    sns.boxplot(x=df_numerik[col])\n",
    "    plt.title(f'Box plot of {col}')\n",
    "    \n",
    "plt.tight_layout()\n",
    "plt.show()"
   ]
  },
  {
   "cell_type": "code",
   "execution_count": null,
   "metadata": {},
   "outputs": [],
   "source": [
    "threshold = 0.7\n",
    "\n",
    "pasangan_korelasi_tinggi = []\n",
    "\n",
    "for i in range(len(korelasi_numerik.columns)):\n",
    "    for j in range(i):\n",
    "        if abs(korelasi_numerik.iloc[i, j]) > threshold:\n",
    "            pasangan_korelasi_tinggi.append((korelasi_numerik.columns[i], korelasi_numerik.columns[j]))\n",
    "\n",
    "if pasangan_korelasi_tinggi:\n",
    "    plt.figure(figsize=(10, 8))\n",
    "\n",
    "    for i, (var1, var2) in enumerate(pasangan_korelasi_tinggi):\n",
    "        plt.subplot(len(pasangan_korelasi_tinggi), 1, i+1)\n",
    "        sns.scatterplot(x=df_numerik[var1], y=df_numerik[var2])\n",
    "        plt.title(f'Scatter Plot of {var1} vs {var2}')\n",
    "    \n",
    "    plt.tight_layout()\n",
    "    plt.show()\n",
    "else:\n",
    "    print(\"Tidak ada pasangan variabel dengan korelasi tinggi.\")"
   ]
  },
  {
   "cell_type": "markdown",
   "metadata": {},
   "source": [
    "#### LAPORAN AKHIR\n",
    "Dalam analisis ini saya telah melakukan eksplorasi awal, menghitung statistik deskriptif, memvisualisasikan data dengan histogram, box plot, dan scatter plot untuk pasangan variabel dengan korelasi tinggi. Diketahui pada data missing kolom dengan nilai missing tertinggi terdapat pada kolom 'ca' dengan 611 total nilai hilang (missing) dan Beberapa baris yang mengandung nilai missing menunjukkan data yang tidak lengkap di kolom seperti trestbps, chol, fbs, restecg, thalch, exang, oldpeak, slope, ca, thal, untuk total seluruh data hilang yang ada dalam dataset berjumlah 1759 data, dan juga untuk gambar heatmap matriks korelasi antar variabel numerik menunjukkan adanya konsistensi warna merah dari sudut kiri atas menuju ke sudut kanan bawah yang menandakan adanya korelasi yang sangat kuat antara variabel yang terletak pada sumbu baris dan kolom tersebut.\n"
   ]
  }
 ],
 "metadata": {
  "kernelspec": {
   "display_name": "Python 3",
   "language": "python",
   "name": "python3"
  },
  "language_info": {
   "codemirror_mode": {
    "name": "ipython",
    "version": 3
   },
   "file_extension": ".py",
   "mimetype": "text/x-python",
   "name": "python",
   "nbconvert_exporter": "python",
   "pygments_lexer": "ipython3",
   "version": "3.12.1"
  }
 },
 "nbformat": 4,
 "nbformat_minor": 2
}
